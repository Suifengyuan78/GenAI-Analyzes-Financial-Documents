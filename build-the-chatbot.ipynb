{
 "cells": [
  {
   "cell_type": "code",
   "execution_count": 24,
   "id": "e1932618-acc0-4865-be6d-6f2e4b49c337",
   "metadata": {
    "scrolled": true
   },
   "outputs": [
    {
     "name": "stdout",
     "output_type": "stream",
     "text": [
      "Requirement already satisfied: requests in c:\\python311\\lib\\site-packages (2.31.0)\n",
      "Requirement already satisfied: charset-normalizer<4,>=2 in c:\\python311\\lib\\site-packages (from requests) (3.3.2)\n",
      "Requirement already satisfied: idna<4,>=2.5 in c:\\python311\\lib\\site-packages (from requests) (3.7)\n",
      "Requirement already satisfied: urllib3<3,>=1.21.1 in c:\\python311\\lib\\site-packages (from requests) (2.2.1)\n",
      "Requirement already satisfied: certifi>=2017.4.17 in c:\\python311\\lib\\site-packages (from requests) (2024.2.2)\n"
     ]
    },
    {
     "name": "stderr",
     "output_type": "stream",
     "text": [
      "\n",
      "[notice] A new release of pip available: 22.3 -> 24.0\n",
      "[notice] To update, run: python.exe -m pip install --upgrade pip\n"
     ]
    }
   ],
   "source": [
    "!pip install requests\n",
    "from flask import Flask, request, jsonify\n",
    "import threading\n",
    "import requests"
   ]
  },
  {
   "cell_type": "code",
   "execution_count": 25,
   "id": "34de7575-d660-453e-b8b0-5252d606dc3f",
   "metadata": {},
   "outputs": [],
   "source": [
    "app = Flask(__name__)\n",
    "\n",
    "@app.route('/')\n",
    "def index():\n",
    "    return \"Welcome to the Financial Chatbot!\""
   ]
  },
  {
   "cell_type": "code",
   "execution_count": 26,
   "id": "31c0ce39-de14-4935-a75f-fcf8d5863b8c",
   "metadata": {},
   "outputs": [],
   "source": [
    "@app.route('/chatbot', methods=['POST'])\n",
    "def mychatbot_response():\n",
    "    data = request.get_json()\n",
    "    company = data.get('company')\n",
    "    query = data.get('query')\n",
    "\n",
    "    financial_data = {\n",
    "        'Apple': {\n",
    "            'Total Revenue': {'2021': '383285', '2022': '394328', '2023': '383285'},\n",
    "            'Net Income': {'2021': '94680', '2022': '99803', '2023': '96995'},\n",
    "            'Total Assets': {'2021': '351002', '2022': '352755', '2023': '352583'},\n",
    "            'Total Liabilities': {'2021': '287912', '2022': '302083', '2023': '290437'},\n",
    "            'Net Cash from Operations': {'2021': '104038', '2022': '122151', '2023': '110543'}\n",
    "        },\n",
    "        'Microsoft': {\n",
    "            'Total Revenue': {'2021': '168088', '2022': '198270', '2023': '211915'},\n",
    "            'Net Income': {'2021': '61271', '2022': '72738', '2023': '72361'},\n",
    "            'Total Assets': {'2021': '333779', '2022': '364840', '2023': '411976'},\n",
    "            'Total Liabilities': {'2021': '191791', '2022': '198298', '2023': '205753'},\n",
    "            'Net Cash from Operations': {'2021': '76740', '2022': '89035', '2023': '87582'}\n",
    "        },\n",
    "        'Tesla': {\n",
    "            'Total Revenue': {'2021': '53823', '2022': '81462', '2023': '96773'},\n",
    "            'Net Income': {'2021': '5644', '2022': '12587', '2023': '14974'},\n",
    "            'Total Assets': {'2021': '62131', '2022': '82338', '2023': '106618'},\n",
    "            'Total Liabilities': {'2021': '30548', '2022': '36440', '2023': '43009'},\n",
    "            'Net Cash from Operations': {'2021': '11497', '2022': '14724', '2023': '13256'}\n",
    "        }\n",
    "    }\n",
    "\n",
    "    if company not in financial_data:\n",
    "        return jsonify({'error': 'Company not found'}), 404\n",
    "\n",
    "    if query.lower() == 'total revenue':\n",
    "        revenue_data = financial_data[company]['Total Revenue']\n",
    "        response = f\"{company} Total Revenue for the last three years: 2023 - {revenue_data['2023']}, 2022 - {revenue_data['2022']}, 2021 - {revenue_data['2021']}.\"\n",
    "        return jsonify({'response': response})\n",
    "    elif query.lower() == 'net income':\n",
    "        income_data = financial_data[company]['Net Income']\n",
    "        response = f\"{company} Net Income has shown slight fluctuation but generally upward: 2021 - {income_data['2021']}, 2022 - {income_data['2022']}, 2023 - {income_data['2023']}.\"\n",
    "        return jsonify({'response': response})\n",
    "    elif query.lower() == 'total assets':\n",
    "        assets_data = financial_data[company]['Total Assets']\n",
    "        response = f\"{company} Total Assets for the last three years: 2023 - {assets_data['2023']}, 2022 - {assets_data['2022']}, 2021 - {assets_data['2021']}.\"\n",
    "        return jsonify({'response': response})\n",
    "    elif query.lower() == 'total liabilities':\n",
    "        liabilities_data = financial_data[company]['Total Liabilities']\n",
    "        response = f\"{company} Total Liabilities for the last three years: 2023 - {liabilities_data['2023']}, 2022 - {liabilities_data['2022']}, 2021 - {liabilities_data['2021']}.\"\n",
    "        return jsonify({'response': response})\n",
    "    elif query.lower() == 'net cash from operations':\n",
    "        cash_data = financial_data[company]['Net Cash from Operations']\n",
    "        response = f\"{company} Net Cash from Operations for the last three years: 2023 - {cash_data['2023']}, 2022 - {cash_data['2022']}, 2021 - {cash_data['2021']}.\"\n",
    "        return jsonify({'response': response})\n",
    "    elif query.lower() == 'net income increase':\n",
    "        income_increase = (int(financial_data[company]['Net Income']['2022']) - int(financial_data[company]['Net Income']['2021'])) / int(financial_data[company]['Net Income']['2021']) * 100\n",
    "        response = f\"{company}'s Net Income increased by {income_increase:.2f}% from 2021 to 2022.\"\n",
    "        return jsonify({'response': response})\n",
    "    elif query.lower() == 'total assets change':\n",
    "        assets_change = (int(financial_data[company]['Total Assets']['2023']) - int(financial_data[company]['Total Assets']['2021'])) / int(financial_data[company]['Total Assets']['2021']) * 100\n",
    "        response = f\"{company}'s Total Assets changed by {assets_change:.2f}% from 2021 to 2023.\"\n",
    "        return jsonify({'response': response})\n",
    "    elif query.lower() == 'total revenue change percentage':\n",
    "        revenue_change = (int(financial_data[company]['Total Revenue']['2023']) - int(financial_data[company]['Total Revenue']['2021'])) / int(financial_data[company]['Total Revenue']['2021']) * 100\n",
    "        response = f\"{company}'s Total Revenue changed by {revenue_change:.2f}% from 2021 to 2023.\"\n",
    "        return jsonify({'response': response})\n",
    "    else:\n",
    "        return jsonify({'error': 'Query not supported'}), 400\n"
   ]
  },
  {
   "cell_type": "code",
   "execution_count": 27,
   "id": "7250bdf8-ab0e-42db-b01f-b8d85b5a1fdb",
   "metadata": {},
   "outputs": [],
   "source": [
    "# use_reloader=False to avoid issues in Jupyter\n",
    "def run_app():\n",
    "    app.run(port=5001, use_reloader=False) "
   ]
  },
  {
   "cell_type": "code",
   "execution_count": 28,
   "id": "8118db47-ed6b-4129-b102-c62c65481273",
   "metadata": {},
   "outputs": [
    {
     "name": "stdout",
     "output_type": "stream",
     "text": [
      " * Serving Flask app '__main__'\n",
      " * Debug mode: off\n"
     ]
    },
    {
     "name": "stderr",
     "output_type": "stream",
     "text": [
      "WARNING: This is a development server. Do not use it in a production deployment. Use a production WSGI server instead.\n",
      " * Running on http://127.0.0.1:5001\n",
      "Press CTRL+C to quit\n"
     ]
    }
   ],
   "source": [
    "# Run Flask in a separate thread to avoid blocking the notebook\n",
    "thread = threading.Thread(target=run_app)\n",
    "thread.start()"
   ]
  },
  {
   "cell_type": "code",
   "execution_count": 29,
   "id": "6b14a81b-639c-44d4-a7d1-589a835c6a9c",
   "metadata": {},
   "outputs": [],
   "source": [
    "# Wait for Flask app to start\n",
    "import time\n",
    "time.sleep(2)"
   ]
  },
  {
   "cell_type": "code",
   "execution_count": 30,
   "id": "4b5b6227-ad54-4917-abdb-d16da09f7ac2",
   "metadata": {},
   "outputs": [],
   "source": [
    "# Define the URL of the chatbot endpoint\n",
    "url = 'http://127.0.0.1:5001/chatbot'"
   ]
  },
  {
   "cell_type": "code",
   "execution_count": 34,
   "id": "e1df66d4-9eee-47a9-b81f-3bdff7875dc8",
   "metadata": {},
   "outputs": [],
   "source": [
    "# Define the data to send in the request\n",
    "data = {\n",
    "    'company': 'Apple',  # Change the company name as needed\n",
    "    'query': 'total revenue'  # Change the query as needed\n",
    "}\n"
   ]
  },
  {
   "cell_type": "code",
   "execution_count": 35,
   "id": "65d259a1-923b-42be-8bb8-cf961f378403",
   "metadata": {},
   "outputs": [],
   "source": [
    "# Send a POST request to the chatbot endpoint\n",
    "response = requests.post(url, json=data)\n"
   ]
  },
  {
   "cell_type": "code",
   "execution_count": 36,
   "id": "c52aa5ca-389e-4be7-aee1-925415029c17",
   "metadata": {},
   "outputs": [
    {
     "name": "stdout",
     "output_type": "stream",
     "text": [
      "Response status code: 200\n",
      "Response text: {\"response\":\"Apple Total Revenue for the last three years: 2023 - 383285, 2022 - 394328, 2021 - 383285.\"}\n",
      "\n"
     ]
    }
   ],
   "source": [
    "# Print the response status code and text\n",
    "print(\"Response status code:\", response.status_code)\n",
    "print(\"Response text:\", response.text)\n"
   ]
  },
  {
   "cell_type": "code",
   "execution_count": null,
   "id": "523dd9aa-4507-451e-85cb-d05192b23314",
   "metadata": {},
   "outputs": [],
   "source": []
  }
 ],
 "metadata": {
  "kernelspec": {
   "display_name": "Python 3 (ipykernel)",
   "language": "python",
   "name": "python3"
  },
  "language_info": {
   "codemirror_mode": {
    "name": "ipython",
    "version": 3
   },
   "file_extension": ".py",
   "mimetype": "text/x-python",
   "name": "python",
   "nbconvert_exporter": "python",
   "pygments_lexer": "ipython3",
   "version": "3.11.0"
  }
 },
 "nbformat": 4,
 "nbformat_minor": 5
}
